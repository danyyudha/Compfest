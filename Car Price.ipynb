{
 "cells": [
  {
   "cell_type": "code",
   "execution_count": 2,
   "metadata": {},
   "outputs": [],
   "source": [
    "import pandas as pd"
   ]
  },
  {
   "cell_type": "code",
   "execution_count": 3,
   "metadata": {},
   "outputs": [],
   "source": [
    "df = pd.read_csv('used_car_data.csv')"
   ]
  },
  {
   "cell_type": "markdown",
   "metadata": {},
   "source": [
    "# SOAL NO 1 - MERK MOBIL"
   ]
  },
  {
   "cell_type": "code",
   "execution_count": 7,
   "metadata": {},
   "outputs": [
    {
     "data": {
      "text/plain": [
       "Maruti           1211\n",
       "Hyundai          1107\n",
       "Honda             608\n",
       "Toyota            411\n",
       "Mercedes-Benz     318\n",
       "Volkswagen        315\n",
       "Ford              300\n",
       "Mahindra          272\n",
       "BMW               267\n",
       "Audi              236\n",
       "Tata              186\n",
       "Skoda             173\n",
       "Renault           145\n",
       "Chevrolet         121\n",
       "Nissan             91\n",
       "Land               60\n",
       "Jaguar             40\n",
       "Fiat               28\n",
       "Mitsubishi         27\n",
       "Mini               26\n",
       "Volvo              21\n",
       "Porsche            18\n",
       "Jeep               15\n",
       "Datsun             13\n",
       "Force               3\n",
       "ISUZU               2\n",
       "Ambassador          1\n",
       "Smart               1\n",
       "Lamborghini         1\n",
       "Bentley             1\n",
       "Isuzu               1\n",
       "Name: Merek, dtype: int64"
      ]
     },
     "execution_count": 7,
     "metadata": {},
     "output_type": "execute_result"
    }
   ],
   "source": [
    "Merek = []\n",
    "\n",
    "for i in df[\"Name\"]:\n",
    "    Merek.append(i.split()[0])\n",
    "    \n",
    "df[\"Merek\"] = Merek.copy()\n",
    "df[\"Merek\"].value_counts()"
   ]
  },
  {
   "cell_type": "markdown",
   "metadata": {},
   "source": [
    "- <h3> Mengelompokkan Merek Mobil Bekas dengan Mobil yang Tersedia tiap Merek </h3>"
   ]
  },
  {
   "cell_type": "code",
   "execution_count": 8,
   "metadata": {},
   "outputs": [],
   "source": [
    "df_group=df.groupby(['Merek','Name'])[['Location','Year','Kilometers_Driven','Fuel_Type','Transmission','Owner_Type','Mileage'\\\n",
    "                                 ,'Engine','Power','Seats','Price']].mean()\n"
   ]
  },
  {
   "cell_type": "code",
   "execution_count": 68,
   "metadata": {},
   "outputs": [
    {
     "data": {
      "text/html": [
       "<div>\n",
       "<style scoped>\n",
       "    .dataframe tbody tr th:only-of-type {\n",
       "        vertical-align: middle;\n",
       "    }\n",
       "\n",
       "    .dataframe tbody tr th {\n",
       "        vertical-align: top;\n",
       "    }\n",
       "\n",
       "    .dataframe thead th {\n",
       "        text-align: right;\n",
       "    }\n",
       "</style>\n",
       "<table border=\"1\" class=\"dataframe\">\n",
       "  <thead>\n",
       "    <tr style=\"text-align: right;\">\n",
       "      <th></th>\n",
       "      <th></th>\n",
       "      <th>Year</th>\n",
       "      <th>Kilometers_Driven</th>\n",
       "      <th>Seats</th>\n",
       "      <th>Price</th>\n",
       "    </tr>\n",
       "    <tr>\n",
       "      <th>Merek</th>\n",
       "      <th>Name</th>\n",
       "      <th></th>\n",
       "      <th></th>\n",
       "      <th></th>\n",
       "      <th></th>\n",
       "    </tr>\n",
       "  </thead>\n",
       "  <tbody>\n",
       "    <tr>\n",
       "      <th>Ambassador</th>\n",
       "      <th>Ambassador Classic Nova Diesel</th>\n",
       "      <td>2003.000000</td>\n",
       "      <td>80000.000000</td>\n",
       "      <td>5.0</td>\n",
       "      <td>1.350000</td>\n",
       "    </tr>\n",
       "    <tr>\n",
       "      <th rowspan=\"4\" valign=\"top\">Audi</th>\n",
       "      <th>Audi A3 35 TDI Attraction</th>\n",
       "      <td>2014.000000</td>\n",
       "      <td>79271.000000</td>\n",
       "      <td>5.0</td>\n",
       "      <td>16.500000</td>\n",
       "    </tr>\n",
       "    <tr>\n",
       "      <th>Audi A3 35 TDI Premium</th>\n",
       "      <td>2016.000000</td>\n",
       "      <td>20003.000000</td>\n",
       "      <td>5.0</td>\n",
       "      <td>19.250000</td>\n",
       "    </tr>\n",
       "    <tr>\n",
       "      <th>Audi A3 35 TDI Premium Plus</th>\n",
       "      <td>2016.000000</td>\n",
       "      <td>39000.000000</td>\n",
       "      <td>5.0</td>\n",
       "      <td>18.900000</td>\n",
       "    </tr>\n",
       "    <tr>\n",
       "      <th>Audi A3 35 TDI Technology</th>\n",
       "      <td>2017.000000</td>\n",
       "      <td>22000.000000</td>\n",
       "      <td>5.0</td>\n",
       "      <td>22.500000</td>\n",
       "    </tr>\n",
       "    <tr>\n",
       "      <th>...</th>\n",
       "      <th>...</th>\n",
       "      <td>...</td>\n",
       "      <td>...</td>\n",
       "      <td>...</td>\n",
       "      <td>...</td>\n",
       "    </tr>\n",
       "    <tr>\n",
       "      <th rowspan=\"5\" valign=\"top\">Volvo</th>\n",
       "      <th>Volvo XC60 D4 Summum</th>\n",
       "      <td>2012.000000</td>\n",
       "      <td>86000.000000</td>\n",
       "      <td>5.0</td>\n",
       "      <td>18.250000</td>\n",
       "    </tr>\n",
       "    <tr>\n",
       "      <th>Volvo XC60 D5</th>\n",
       "      <td>2012.333333</td>\n",
       "      <td>126658.666667</td>\n",
       "      <td>5.0</td>\n",
       "      <td>19.433333</td>\n",
       "    </tr>\n",
       "    <tr>\n",
       "      <th>Volvo XC60 D5 Inscription</th>\n",
       "      <td>2014.000000</td>\n",
       "      <td>86925.000000</td>\n",
       "      <td>5.0</td>\n",
       "      <td>17.180000</td>\n",
       "    </tr>\n",
       "    <tr>\n",
       "      <th>Volvo XC90 2007-2015 D5 AT AWD</th>\n",
       "      <td>2014.000000</td>\n",
       "      <td>102001.000000</td>\n",
       "      <td>7.0</td>\n",
       "      <td>23.580000</td>\n",
       "    </tr>\n",
       "    <tr>\n",
       "      <th>Volvo XC90 2007-2015 D5 AWD</th>\n",
       "      <td>2014.000000</td>\n",
       "      <td>89230.000000</td>\n",
       "      <td>7.0</td>\n",
       "      <td>23.650000</td>\n",
       "    </tr>\n",
       "  </tbody>\n",
       "</table>\n",
       "<p>1876 rows × 4 columns</p>\n",
       "</div>"
      ],
      "text/plain": [
       "                                                  Year  Kilometers_Driven  \\\n",
       "Merek      Name                                                             \n",
       "Ambassador Ambassador Classic Nova Diesel  2003.000000       80000.000000   \n",
       "Audi       Audi A3 35 TDI Attraction       2014.000000       79271.000000   \n",
       "           Audi A3 35 TDI Premium          2016.000000       20003.000000   \n",
       "           Audi A3 35 TDI Premium Plus     2016.000000       39000.000000   \n",
       "           Audi A3 35 TDI Technology       2017.000000       22000.000000   \n",
       "...                                                ...                ...   \n",
       "Volvo      Volvo XC60 D4 Summum            2012.000000       86000.000000   \n",
       "           Volvo XC60 D5                   2012.333333      126658.666667   \n",
       "           Volvo XC60 D5 Inscription       2014.000000       86925.000000   \n",
       "           Volvo XC90 2007-2015 D5 AT AWD  2014.000000      102001.000000   \n",
       "           Volvo XC90 2007-2015 D5 AWD     2014.000000       89230.000000   \n",
       "\n",
       "                                           Seats      Price  \n",
       "Merek      Name                                              \n",
       "Ambassador Ambassador Classic Nova Diesel    5.0   1.350000  \n",
       "Audi       Audi A3 35 TDI Attraction         5.0  16.500000  \n",
       "           Audi A3 35 TDI Premium            5.0  19.250000  \n",
       "           Audi A3 35 TDI Premium Plus       5.0  18.900000  \n",
       "           Audi A3 35 TDI Technology         5.0  22.500000  \n",
       "...                                          ...        ...  \n",
       "Volvo      Volvo XC60 D4 Summum              5.0  18.250000  \n",
       "           Volvo XC60 D5                     5.0  19.433333  \n",
       "           Volvo XC60 D5 Inscription         5.0  17.180000  \n",
       "           Volvo XC90 2007-2015 D5 AT AWD    7.0  23.580000  \n",
       "           Volvo XC90 2007-2015 D5 AWD       7.0  23.650000  \n",
       "\n",
       "[1876 rows x 4 columns]"
      ]
     },
     "execution_count": 68,
     "metadata": {},
     "output_type": "execute_result"
    }
   ],
   "source": [
    "df_group"
   ]
  },
  {
   "cell_type": "markdown",
   "metadata": {},
   "source": [
    "# SOAL 2 - KOTA DENGAN MOBIL BEKAS PALING BANYAK"
   ]
  },
  {
   "cell_type": "code",
   "execution_count": 187,
   "metadata": {},
   "outputs": [
    {
     "data": {
      "text/plain": [
       "count       6019\n",
       "unique        11\n",
       "top       Mumbai\n",
       "freq         790\n",
       "Name: Location, dtype: object"
      ]
     },
     "execution_count": 187,
     "metadata": {},
     "output_type": "execute_result"
    }
   ],
   "source": [
    "df['Location'].describe()"
   ]
  },
  {
   "cell_type": "markdown",
   "metadata": {},
   "source": [
    "# SOAL 3 - DISTRIBUSI TAHUN EDISI MOBIL BEKAS\n"
   ]
  },
  {
   "cell_type": "code",
   "execution_count": 20,
   "metadata": {},
   "outputs": [
    {
     "data": {
      "text/plain": [
       "<matplotlib.axes._subplots.AxesSubplot at 0x1ffd21dbe50>"
      ]
     },
     "execution_count": 20,
     "metadata": {},
     "output_type": "execute_result"
    },
    {
     "data": {
      "image/png": "[encoded data removed]",
      "text/plain": [
       "<Figure size 1152x576 with 1 Axes>"
      ]
     },
     "metadata": {
      "needs_background": "light"
     },
     "output_type": "display_data"
    }
   ],
   "source": [
    "import matplotlib.pyplot as plt\n",
    "import seaborn as sn\n",
    "\n",
    "fig,ax = plt.subplots(figsize=(16,8))\n",
    "sn.distplot(df['Year'],bins=44)"
   ]
  },
  {
   "cell_type": "code",
   "execution_count": 125,
   "metadata": {},
   "outputs": [
    {
     "data": {
      "text/plain": [
       "22"
      ]
     },
     "execution_count": 125,
     "metadata": {},
     "output_type": "execute_result"
    }
   ],
   "source": [
    "df['Year'].value_counts().count()"
   ]
  },
  {
   "cell_type": "markdown",
   "metadata": {},
   "source": [
    "# SOAL 4 - MOBIL BEKAS DENGAN PEMAKAIAN < 100.000 KM"
   ]
  },
  {
   "cell_type": "code",
   "execution_count": 189,
   "metadata": {},
   "outputs": [
    {
     "data": {
      "text/plain": [
       "5470"
      ]
     },
     "execution_count": 189,
     "metadata": {},
     "output_type": "execute_result"
    }
   ],
   "source": [
    "df[df['Kilometers_Driven'] < 100000]['Name'].count()"
   ]
  },
  {
   "cell_type": "markdown",
   "metadata": {},
   "source": [
    "# SOAL 5 - TOTAL JARAK PEMAKAIAN DIKATAKAN TINGGI/ RENDAH"
   ]
  },
  {
   "cell_type": "code",
   "execution_count": 9,
   "metadata": {},
   "outputs": [],
   "source": [
    "df['Current Year'] = 2020\n",
    "df['Age'] = df['Current Year'] - df['Year']\n",
    "df = df.drop('Current Year',axis=1)"
   ]
  },
  {
   "cell_type": "code",
   "execution_count": 10,
   "metadata": {},
   "outputs": [],
   "source": [
    "df['Jarak Pemakaian per Tahun'] = df['Kilometers_Driven']/df['Age']"
   ]
  },
  {
   "cell_type": "code",
   "execution_count": 9,
   "metadata": {},
   "outputs": [
    {
     "data": {
      "text/plain": [
       "3882"
      ]
     },
     "execution_count": 9,
     "metadata": {},
     "output_type": "execute_result"
    }
   ],
   "source": [
    "# Low\n",
    "df[df['Jarak Pemakaian per Tahun']<= 10000]['Jarak Pemakaian per Tahun'].count()"
   ]
  },
  {
   "cell_type": "code",
   "execution_count": 413,
   "metadata": {},
   "outputs": [
    {
     "data": {
      "text/plain": [
       "1379"
      ]
     },
     "execution_count": 413,
     "metadata": {},
     "output_type": "execute_result"
    }
   ],
   "source": [
    "# Normal\n",
    "df[(df['Jarak Pemakaian per Tahun']>10000)&(df['Jarak Pemakaian per Tahun']<15000)]['Jarak Pemakaian per Tahun'].count() "
   ]
  },
  {
   "cell_type": "code",
   "execution_count": 414,
   "metadata": {},
   "outputs": [
    {
     "data": {
      "text/plain": [
       "758"
      ]
     },
     "execution_count": 414,
     "metadata": {},
     "output_type": "execute_result"
    }
   ],
   "source": [
    "# High\n",
    "df[(df['Jarak Pemakaian per Tahun']>=15000)]['Jarak Pemakaian per Tahun'].count()"
   ]
  },
  {
   "cell_type": "markdown",
   "metadata": {},
   "source": [
    "# SOAL 6 - OUTLIER PADA KOLOM Kilometers_Driven"
   ]
  },
  {
   "cell_type": "markdown",
   "metadata": {},
   "source": [
    "- <h3> Deteksi Outlier dengan IQR </h3>"
   ]
  },
  {
   "cell_type": "code",
   "execution_count": 11,
   "metadata": {},
   "outputs": [],
   "source": [
    "import numpy as np\n",
    "q1, q3= np.percentile(df['Kilometers_Driven'],[25,75])\n",
    "iqr = q3 - q1"
   ]
  },
  {
   "cell_type": "code",
   "execution_count": 12,
   "metadata": {},
   "outputs": [],
   "source": [
    "lower_inner_fence = q1 -(1.5 * iqr) \n",
    "upper_inner_fence = q3 +(1.5 * iqr)         "
   ]
  },
  {
   "cell_type": "code",
   "execution_count": 19,
   "metadata": {},
   "outputs": [
    {
     "data": {
      "text/plain": [
       "0"
      ]
     },
     "execution_count": 19,
     "metadata": {},
     "output_type": "execute_result"
    }
   ],
   "source": [
    "len(df[df['Kilometers_Driven'] < lower_inner_fence]) # Data Outlier kurang dari Lower inner Fence"
   ]
  },
  {
   "cell_type": "code",
   "execution_count": 404,
   "metadata": {},
   "outputs": [
    {
     "data": {
      "text/plain": [
       "202"
      ]
     },
     "execution_count": 404,
     "metadata": {},
     "output_type": "execute_result"
    }
   ],
   "source": [
    "len(df[df['Kilometers_Driven'] > upper_inner_fence]) # Data Outlier lebih dari Upper inner Fence"
   ]
  },
  {
   "cell_type": "code",
   "execution_count": 72,
   "metadata": {},
   "outputs": [
    {
     "data": {
      "text/plain": [
       "<matplotlib.axes._subplots.AxesSubplot at 0x1a325f31f70>"
      ]
     },
     "execution_count": 72,
     "metadata": {},
     "output_type": "execute_result"
    },
    {
     "data": {
      "image/png": "[encoded data removed]",
      "text/plain": [
       "<Figure size 432x288 with 1 Axes>"
      ]
     },
     "metadata": {
      "needs_background": "light"
     },
     "output_type": "display_data"
    }
   ],
   "source": [
    "# Boxplot Kilometers_Driven\n",
    "sn.boxplot(df['Kilometers_Driven'])"
   ]
  },
  {
   "cell_type": "markdown",
   "metadata": {},
   "source": [
    "- <h3> Deteksi Outlier dengan Z-Score </h3>"
   ]
  },
  {
   "cell_type": "code",
   "execution_count": 13,
   "metadata": {},
   "outputs": [],
   "source": [
    "outliers=[]\n",
    "def detect_outlier(data_1):\n",
    "    \n",
    "    threshold=3\n",
    "    mean_1 = np.mean(data_1)\n",
    "    std_1 =np.std(data_1)\n",
    "    \n",
    "    \n",
    "    for y in data_1:\n",
    "        z_score= (y - mean_1)/std_1 \n",
    "        if np.abs(z_score) > threshold:\n",
    "            outliers.append(y)\n",
    "    return outliers"
   ]
  },
  {
   "cell_type": "code",
   "execution_count": 74,
   "metadata": {},
   "outputs": [
    {
     "data": {
      "text/plain": [
       "[775000, 620000, 720000, 6500000, 480000, 480000, 445000]"
      ]
     },
     "execution_count": 74,
     "metadata": {},
     "output_type": "execute_result"
    }
   ],
   "source": [
    "detect_outlier(df['Kilometers_Driven'])"
   ]
  },
  {
   "cell_type": "markdown",
   "metadata": {},
   "source": [
    "# SOAL 7 - PENGARUH TAHUN PEMBUATAN MOBIL(YEAR) DENGAN TOTAL JARAK PEMAKAIAN"
   ]
  },
  {
   "cell_type": "code",
   "execution_count": 416,
   "metadata": {},
   "outputs": [
    {
     "data": {
      "text/plain": [
       "Text(0.5, 1.0, 'HUBUNGAN ANTARA TAHUN PEMBUATAN MOBIL DENGAN TOTAL JARAK PEMAKAIAN')"
      ]
     },
     "execution_count": 416,
     "metadata": {},
     "output_type": "execute_result"
    },
    {
     "data": {
      "image/png": "[encoded data removed]",
      "text/plain": [
       "<Figure size 360x360 with 6 Axes>"
      ]
     },
     "metadata": {
      "needs_background": "light"
     },
     "output_type": "display_data"
    }
   ],
   "source": [
    "sn.pairplot(df[['Year','Kilometers_Driven']])\n",
    "plt.title('HUBUNGAN ANTARA TAHUN PEMBUATAN MOBIL DENGAN TOTAL JARAK PEMAKAIAN')"
   ]
  },
  {
   "cell_type": "code",
   "execution_count": 441,
   "metadata": {},
   "outputs": [
    {
     "data": {
      "image/png": "[encoded data removed]",
      "text/plain": [
       "<Figure size 720x720 with 2 Axes>"
      ]
     },
     "metadata": {
      "needs_background": "light"
     },
     "output_type": "display_data"
    }
   ],
   "source": [
    "fig, ax = plt.subplots(figsize=(10,10))\n",
    "corrmat = df[['Year','Kilometers_Driven']].corr(method='pearson')\n",
    "top_corrmat = corrmat.index\n",
    "g = sn.heatmap(df[top_corrmat].corr(method='pearson'),annot=True,cmap='coolwarm')"
   ]
  },
  {
   "cell_type": "markdown",
   "metadata": {},
   "source": [
    "# SOAL 8 - MOBIL DENGAN KEPEMILIKAN KETIGA ATAU LEBIH\n"
   ]
  },
  {
   "cell_type": "code",
   "execution_count": 331,
   "metadata": {},
   "outputs": [
    {
     "data": {
      "text/plain": [
       "122"
      ]
     },
     "execution_count": 331,
     "metadata": {},
     "output_type": "execute_result"
    }
   ],
   "source": [
    "df[df[\"Owner_Type\"].isin([\"Third\",\"Fourth & Above\"])][\"Name\"].count()"
   ]
  },
  {
   "cell_type": "markdown",
   "metadata": {},
   "source": [
    "# SOAL 9 - TIPE BAHAN BAKAR DENGAN MILEAGE PALING HEMAT"
   ]
  },
  {
   "cell_type": "code",
   "execution_count": 58,
   "metadata": {},
   "outputs": [],
   "source": [
    "# Membuat variabel untuk mendapatkan indeks kolom Mileage(kmpl) \n",
    "indexNames = df[ df['Mileage(kmpl)'] == 0.0 ].index\n",
    "# Drop dataframe kolom variabel indexNames\n",
    "hubungan_mileage = df.drop(indexNames )"
   ]
  },
  {
   "cell_type": "code",
   "execution_count": 65,
   "metadata": {},
   "outputs": [
    {
     "data": {
      "text/html": [
       "<div>\n",
       "<style scoped>\n",
       "    .dataframe tbody tr th:only-of-type {\n",
       "        vertical-align: middle;\n",
       "    }\n",
       "\n",
       "    .dataframe tbody tr th {\n",
       "        vertical-align: top;\n",
       "    }\n",
       "\n",
       "    .dataframe thead th {\n",
       "        text-align: right;\n",
       "    }\n",
       "</style>\n",
       "<table border=\"1\" class=\"dataframe\">\n",
       "  <thead>\n",
       "    <tr style=\"text-align: right;\">\n",
       "      <th></th>\n",
       "      <th>Mileage(kmpl)</th>\n",
       "    </tr>\n",
       "    <tr>\n",
       "      <th>Fuel_Type</th>\n",
       "      <th></th>\n",
       "    </tr>\n",
       "  </thead>\n",
       "  <tbody>\n",
       "    <tr>\n",
       "      <th>CNG</th>\n",
       "      <td>25.418036</td>\n",
       "    </tr>\n",
       "    <tr>\n",
       "      <th>Diesel</th>\n",
       "      <td>18.778682</td>\n",
       "    </tr>\n",
       "    <tr>\n",
       "      <th>Electric</th>\n",
       "      <td>17.000000</td>\n",
       "    </tr>\n",
       "    <tr>\n",
       "      <th>LPG</th>\n",
       "      <td>19.385000</td>\n",
       "    </tr>\n",
       "    <tr>\n",
       "      <th>Petrol</th>\n",
       "      <td>17.679168</td>\n",
       "    </tr>\n",
       "  </tbody>\n",
       "</table>\n",
       "</div>"
      ],
      "text/plain": [
       "           Mileage(kmpl)\n",
       "Fuel_Type               \n",
       "CNG            25.418036\n",
       "Diesel         18.778682\n",
       "Electric       17.000000\n",
       "LPG            19.385000\n",
       "Petrol         17.679168"
      ]
     },
     "execution_count": 65,
     "metadata": {},
     "output_type": "execute_result"
    }
   ],
   "source": [
    "hubungan_bahan_bakar_mileage = hubungan_mileage.pivot_table(index='Fuel_Type', values='Mileage(kmpl)', aggfunc='mean')\n",
    "hubungan_bahan_bakar_mileage"
   ]
  },
  {
   "cell_type": "code",
   "execution_count": 41,
   "metadata": {},
   "outputs": [
    {
     "data": {
      "text/plain": [
       "['0.0 kmpl',\n",
       " '0.0 kmpl',\n",
       " '0.0 kmpl',\n",
       " '0.0 kmpl',\n",
       " '0.0 kmpl',\n",
       " '0.0 kmpl',\n",
       " '0.0 kmpl',\n",
       " '0.0 kmpl',\n",
       " '0.0 kmpl',\n",
       " '0.0 kmpl',\n",
       " '0.0 kmpl',\n",
       " '0.0 kmpl',\n",
       " '0.0 kmpl',\n",
       " '0.0 kmpl',\n",
       " '0.0 kmpl',\n",
       " '0.0 kmpl',\n",
       " '0.0 kmpl',\n",
       " '0.0 kmpl',\n",
       " '0.0 kmpl',\n",
       " '0.0 kmpl',\n",
       " '0.0 kmpl',\n",
       " '0.0 kmpl',\n",
       " '0.0 kmpl',\n",
       " '0.0 kmpl',\n",
       " '0.0 kmpl',\n",
       " '0.0 kmpl',\n",
       " '0.0 kmpl',\n",
       " '0.0 kmpl',\n",
       " '0.0 kmpl',\n",
       " '0.0 kmpl',\n",
       " '0.0 kmpl',\n",
       " '0.0 kmpl',\n",
       " '0.0 kmpl',\n",
       " '0.0 kmpl',\n",
       " '0.0 kmpl',\n",
       " '0.0 kmpl',\n",
       " '0.0 kmpl',\n",
       " '0.0 kmpl',\n",
       " '0.0 kmpl',\n",
       " '0.0 kmpl',\n",
       " '0.0 kmpl',\n",
       " '0.0 kmpl',\n",
       " '0.0 kmpl',\n",
       " '0.0 kmpl',\n",
       " '0.0 kmpl',\n",
       " '0.0 kmpl',\n",
       " '0.0 kmpl',\n",
       " '0.0 kmpl',\n",
       " '0.0 kmpl',\n",
       " '0.0 kmpl',\n",
       " '0.0 kmpl',\n",
       " '0.0 kmpl',\n",
       " '0.0 kmpl',\n",
       " '0.0 kmpl',\n",
       " '0.0 kmpl',\n",
       " '0.0 kmpl',\n",
       " '0.0 kmpl',\n",
       " '0.0 kmpl',\n",
       " '0.0 kmpl',\n",
       " '0.0 kmpl',\n",
       " '0.0 kmpl',\n",
       " '0.0 kmpl',\n",
       " '0.0 kmpl',\n",
       " '0.0 kmpl',\n",
       " '0.0 kmpl',\n",
       " '0.0 kmpl',\n",
       " '0.0 kmpl',\n",
       " '0.0 kmpl',\n",
       " '10.0 kmpl',\n",
       " '10.0 kmpl',\n",
       " '10.0 kmpl',\n",
       " '10.0 kmpl',\n",
       " '10.0 kmpl',\n",
       " '10.0 kmpl',\n",
       " '10.0 kmpl',\n",
       " '10.0 kmpl',\n",
       " '10.0 kmpl',\n",
       " '10.0 kmpl',\n",
       " '10.1 kmpl',\n",
       " '10.1 kmpl',\n",
       " '10.1 kmpl',\n",
       " '10.1 kmpl',\n",
       " '10.1 kmpl',\n",
       " '10.1 kmpl',\n",
       " '10.1 kmpl',\n",
       " '10.13 kmpl',\n",
       " '10.13 kmpl',\n",
       " '10.13 kmpl',\n",
       " '10.2 kmpl',\n",
       " '10.2 kmpl',\n",
       " '10.2 kmpl',\n",
       " '10.2 kmpl',\n",
       " '10.2 kmpl',\n",
       " '10.2 kmpl',\n",
       " '10.37 kmpl',\n",
       " '10.37 kmpl',\n",
       " '10.4 kmpl',\n",
       " '10.4 kmpl',\n",
       " '10.4 kmpl',\n",
       " '10.5 kmpl',\n",
       " '10.5 kmpl',\n",
       " '10.5 kmpl',\n",
       " '10.5 kmpl',\n",
       " '10.5 kmpl',\n",
       " '10.5 kmpl',\n",
       " '10.5 kmpl',\n",
       " '10.5 kmpl',\n",
       " '10.5 kmpl',\n",
       " '10.5 kmpl',\n",
       " '10.5 kmpl',\n",
       " '10.5 kmpl',\n",
       " '10.5 kmpl',\n",
       " '10.5 kmpl',\n",
       " '10.5 kmpl',\n",
       " '10.5 kmpl',\n",
       " '10.5 kmpl',\n",
       " '10.5 kmpl',\n",
       " '10.5 kmpl',\n",
       " '10.5 kmpl',\n",
       " '10.5 kmpl',\n",
       " '10.6 kmpl',\n",
       " '10.8 kmpl',\n",
       " '10.8 kmpl',\n",
       " '10.8 kmpl',\n",
       " '10.8 kmpl',\n",
       " '10.8 kmpl',\n",
       " '10.8 kmpl',\n",
       " '10.8 kmpl',\n",
       " '10.8 kmpl',\n",
       " '10.8 kmpl',\n",
       " '10.8 kmpl',\n",
       " '10.9 kmpl',\n",
       " '10.9 kmpl',\n",
       " '10.9 kmpl',\n",
       " '10.9 kmpl',\n",
       " '10.9 kmpl',\n",
       " '10.9 kmpl',\n",
       " '10.9 kmpl',\n",
       " '10.91 kmpl',\n",
       " '10.91 kmpl',\n",
       " '10.91 kmpl',\n",
       " '10.91 kmpl',\n",
       " '10.91 kmpl',\n",
       " '10.91 kmpl',\n",
       " '10.91 kmpl',\n",
       " '10.91 kmpl',\n",
       " '10.91 kmpl',\n",
       " '10.91 kmpl',\n",
       " '10.91 kmpl',\n",
       " '10.91 kmpl',\n",
       " '10.91 kmpl',\n",
       " '10.91 kmpl',\n",
       " '10.91 kmpl',\n",
       " '10.93 kmpl',\n",
       " '10.93 kmpl',\n",
       " '10.93 kmpl',\n",
       " '10.93 kmpl',\n",
       " '10.93 kmpl',\n",
       " '10.93 kmpl',\n",
       " '10.98 kmpl',\n",
       " '11.0 kmpl',\n",
       " '11.0 kmpl',\n",
       " '11.0 kmpl',\n",
       " '11.0 kmpl',\n",
       " '11.0 kmpl',\n",
       " '11.0 kmpl',\n",
       " '11.0 kmpl',\n",
       " '11.0 kmpl',\n",
       " '11.0 kmpl',\n",
       " '11.0 kmpl',\n",
       " '11.0 kmpl',\n",
       " '11.0 kmpl',\n",
       " '11.0 kmpl',\n",
       " '11.0 kmpl',\n",
       " '11.0 kmpl',\n",
       " '11.0 kmpl',\n",
       " '11.0 kmpl',\n",
       " '11.05 kmpl',\n",
       " '11.05 kmpl',\n",
       " '11.07 kmpl',\n",
       " '11.1 kmpl',\n",
       " '11.1 kmpl',\n",
       " '11.1 kmpl',\n",
       " '11.1 kmpl',\n",
       " '11.1 kmpl',\n",
       " '11.1 kmpl',\n",
       " '11.1 kmpl',\n",
       " '11.1 kmpl',\n",
       " '11.1 kmpl',\n",
       " '11.1 kmpl',\n",
       " '11.18 kmpl',\n",
       " '11.18 kmpl',\n",
       " '11.18 kmpl',\n",
       " '11.18 kmpl',\n",
       " '11.18 kmpl',\n",
       " '11.18 kmpl',\n",
       " '11.18 kmpl',\n",
       " '11.18 kmpl',\n",
       " '11.18 kmpl',\n",
       " '11.18 kmpl',\n",
       " '11.2 kmpl',\n",
       " '11.2 kmpl',\n",
       " '11.2 kmpl',\n",
       " '11.2 kmpl',\n",
       " '11.2 kmpl',\n",
       " '11.25 kmpl',\n",
       " '11.25 kmpl',\n",
       " '11.3 kmpl',\n",
       " '11.3 kmpl',\n",
       " '11.3 kmpl',\n",
       " '11.3 kmpl',\n",
       " '11.3 kmpl',\n",
       " '11.3 kmpl',\n",
       " '11.3 kmpl',\n",
       " '11.3 kmpl',\n",
       " '11.3 kmpl',\n",
       " '11.3 kmpl',\n",
       " '11.3 kmpl',\n",
       " '11.3 kmpl',\n",
       " '11.33 kmpl',\n",
       " '11.33 kmpl',\n",
       " '11.33 kmpl',\n",
       " '11.33 kmpl',\n",
       " '11.33 kmpl',\n",
       " '11.33 kmpl',\n",
       " '11.36 kmpl',\n",
       " '11.36 kmpl',\n",
       " '11.36 kmpl',\n",
       " '11.36 kmpl',\n",
       " '11.36 kmpl',\n",
       " '11.36 kmpl',\n",
       " '11.36 kmpl',\n",
       " '11.36 kmpl',\n",
       " '11.36 kmpl',\n",
       " '11.36 kmpl',\n",
       " '11.36 kmpl',\n",
       " '11.36 kmpl',\n",
       " '11.36 kmpl',\n",
       " '11.36 kmpl',\n",
       " '11.36 kmpl',\n",
       " '11.36 kmpl',\n",
       " '11.36 kmpl',\n",
       " '11.36 kmpl',\n",
       " '11.36 kmpl',\n",
       " '11.36 kmpl',\n",
       " '11.36 kmpl',\n",
       " '11.36 kmpl',\n",
       " '11.36 kmpl',\n",
       " '11.4 kmpl',\n",
       " '11.4 kmpl',\n",
       " '11.4 kmpl',\n",
       " '11.4 kmpl',\n",
       " '11.4 kmpl',\n",
       " '11.4 kmpl',\n",
       " '11.49 kmpl',\n",
       " '11.49 kmpl',\n",
       " '11.5 kmpl',\n",
       " '11.5 kmpl',\n",
       " '11.5 kmpl',\n",
       " '11.5 kmpl',\n",
       " '11.5 kmpl',\n",
       " '11.5 kmpl',\n",
       " '11.5 kmpl',\n",
       " '11.5 kmpl',\n",
       " '11.5 kmpl',\n",
       " '11.5 kmpl',\n",
       " '11.5 kmpl',\n",
       " '11.5 kmpl',\n",
       " '11.5 kmpl',\n",
       " '11.5 kmpl',\n",
       " '11.5 kmpl',\n",
       " '11.5 kmpl',\n",
       " '11.5 kmpl',\n",
       " '11.5 kmpl',\n",
       " '11.5 kmpl',\n",
       " '11.5 kmpl',\n",
       " '11.5 kmpl',\n",
       " '11.5 kmpl',\n",
       " '11.5 kmpl',\n",
       " '11.5 kmpl',\n",
       " '11.5 kmpl',\n",
       " '11.5 kmpl',\n",
       " '11.5 kmpl',\n",
       " '11.5 kmpl',\n",
       " '11.5 kmpl',\n",
       " '11.5 kmpl',\n",
       " '11.5 kmpl',\n",
       " '11.5 kmpl',\n",
       " '11.5 kmpl',\n",
       " '11.5 kmpl',\n",
       " '11.5 kmpl',\n",
       " '11.5 kmpl',\n",
       " '11.5 kmpl',\n",
       " '11.5 kmpl',\n",
       " '11.5 kmpl',\n",
       " '11.5 kmpl',\n",
       " '11.5 kmpl',\n",
       " '11.56 kmpl',\n",
       " '11.57 kmpl',\n",
       " '11.57 kmpl',\n",
       " '11.57 kmpl',\n",
       " '11.57 kmpl',\n",
       " '11.57 kmpl',\n",
       " '11.57 kmpl',\n",
       " '11.57 kmpl',\n",
       " '11.57 kmpl',\n",
       " '11.57 kmpl',\n",
       " '11.62 kmpl',\n",
       " '11.68 kmpl',\n",
       " '11.68 kmpl',\n",
       " '11.68 kmpl',\n",
       " '11.68 kmpl',\n",
       " '11.7 kmpl',\n",
       " '11.7 kmpl',\n",
       " '11.7 kmpl',\n",
       " '11.7 kmpl',\n",
       " '11.7 kmpl',\n",
       " '11.7 kmpl',\n",
       " '11.7 kmpl',\n",
       " '11.7 kmpl',\n",
       " '11.7 kmpl',\n",
       " '11.7 kmpl',\n",
       " '11.7 kmpl',\n",
       " '11.7 kmpl',\n",
       " '11.7 kmpl',\n",
       " '11.7 kmpl',\n",
       " '11.7 kmpl',\n",
       " '11.7 kmpl',\n",
       " '11.7 kmpl',\n",
       " '11.7 kmpl',\n",
       " '11.7 kmpl',\n",
       " '11.7 kmpl',\n",
       " '11.72 kmpl',\n",
       " '11.72 kmpl',\n",
       " '11.72 kmpl',\n",
       " '11.72 kmpl',\n",
       " '11.74 kmpl',\n",
       " '11.74 kmpl',\n",
       " '11.74 kmpl',\n",
       " '11.74 kmpl',\n",
       " '11.74 kmpl',\n",
       " '11.74 kmpl',\n",
       " '11.74 kmpl',\n",
       " '11.74 kmpl',\n",
       " '11.74 kmpl',\n",
       " '11.74 kmpl',\n",
       " '11.74 kmpl',\n",
       " '11.74 kmpl',\n",
       " '11.74 kmpl',\n",
       " '11.74 kmpl',\n",
       " '11.74 kmpl',\n",
       " '11.74 kmpl',\n",
       " '11.78 kmpl',\n",
       " '11.79 kmpl',\n",
       " '11.79 kmpl',\n",
       " '11.79 kmpl',\n",
       " '11.79 kmpl',\n",
       " '11.8 kmpl',\n",
       " '11.8 kmpl',\n",
       " '11.8 kmpl',\n",
       " '11.8 kmpl',\n",
       " '11.8 kmpl',\n",
       " '11.8 kmpl',\n",
       " '11.8 kmpl',\n",
       " '11.8 kmpl',\n",
       " '11.9 kmpl',\n",
       " '11.9 kmpl',\n",
       " '11.9 kmpl',\n",
       " '12.0 kmpl',\n",
       " '12.0 kmpl',\n",
       " '12.0 kmpl',\n",
       " '12.0 kmpl',\n",
       " '12.0 kmpl',\n",
       " '12.0 kmpl',\n",
       " '12.0 kmpl',\n",
       " '12.0 kmpl',\n",
       " '12.0 kmpl',\n",
       " '12.0 kmpl',\n",
       " '12.0 kmpl',\n",
       " '12.0 kmpl',\n",
       " '12.0 kmpl',\n",
       " '12.0 kmpl',\n",
       " '12.0 kmpl',\n",
       " '12.05 kmpl',\n",
       " '12.05 kmpl',\n",
       " '12.05 kmpl',\n",
       " '12.05 kmpl',\n",
       " '12.05 kmpl',\n",
       " '12.05 kmpl',\n",
       " '12.05 kmpl',\n",
       " '12.05 kmpl',\n",
       " '12.05 kmpl',\n",
       " '12.05 kmpl',\n",
       " '12.05 kmpl',\n",
       " '12.05 kmpl',\n",
       " '12.05 kmpl',\n",
       " '12.05 kmpl',\n",
       " '12.05 kmpl',\n",
       " '12.05 kmpl',\n",
       " '12.05 kmpl',\n",
       " '12.05 kmpl',\n",
       " '12.05 kmpl',\n",
       " '12.05 kmpl',\n",
       " '12.05 kmpl',\n",
       " '12.05 kmpl',\n",
       " '12.05 kmpl',\n",
       " '12.05 kmpl',\n",
       " '12.05 kmpl',\n",
       " '12.05 kmpl',\n",
       " '12.05 kmpl',\n",
       " '12.05 kmpl',\n",
       " '12.05 kmpl',\n",
       " '12.05 kmpl',\n",
       " '12.05 kmpl',\n",
       " '12.05 kmpl',\n",
       " '12.05 kmpl',\n",
       " '12.05 kmpl',\n",
       " '12.05 kmpl',\n",
       " '12.05 kmpl',\n",
       " '12.05 kmpl',\n",
       " '12.05 kmpl',\n",
       " '12.07 kmpl',\n",
       " '12.07 kmpl',\n",
       " '12.07 kmpl',\n",
       " '12.07 kmpl',\n",
       " '12.07 kmpl',\n",
       " '12.07 kmpl',\n",
       " '12.07 kmpl',\n",
       " '12.07 kmpl',\n",
       " '12.07 kmpl',\n",
       " '12.07 kmpl',\n",
       " '12.07 kmpl',\n",
       " '12.07 kmpl',\n",
       " '12.07 kmpl',\n",
       " '12.07 kmpl',\n",
       " '12.07 kmpl',\n",
       " '12.07 kmpl',\n",
       " '12.07 kmpl',\n",
       " '12.07 kmpl',\n",
       " '12.07 kmpl',\n",
       " '12.07 kmpl',\n",
       " '12.07 kmpl',\n",
       " '12.07 kmpl',\n",
       " '12.07 kmpl',\n",
       " '12.07 kmpl',\n",
       " '12.07 kmpl',\n",
       " '12.07 kmpl',\n",
       " '12.07 kmpl',\n",
       " '12.1 kmpl',\n",
       " '12.1 kmpl',\n",
       " '12.1 kmpl',\n",
       " '12.19 kmpl',\n",
       " '12.3 kmpl',\n",
       " '12.3 kmpl',\n",
       " '12.3 kmpl',\n",
       " '12.3 kmpl',\n",
       " '12.3 kmpl',\n",
       " '12.35 kmpl',\n",
       " '12.35 kmpl',\n",
       " '12.35 kmpl',\n",
       " '12.37 kmpl',\n",
       " '12.39 kmpl',\n",
       " '12.39 kmpl',\n",
       " '12.39 kmpl',\n",
       " '12.39 kmpl',\n",
       " '12.39 kmpl',\n",
       " '12.39 kmpl',\n",
       " '12.39 kmpl',\n",
       " '12.39 kmpl',\n",
       " '12.4 kmpl',\n",
       " '12.4 kmpl',\n",
       " '12.4 kmpl',\n",
       " '12.4 kmpl',\n",
       " '12.4 kmpl',\n",
       " '12.4 kmpl',\n",
       " '12.4 kmpl',\n",
       " '12.4 kmpl',\n",
       " '12.4 kmpl',\n",
       " '12.4 kmpl',\n",
       " '12.4 kmpl',\n",
       " '12.4 kmpl',\n",
       " '12.5 kmpl',\n",
       " '12.5 kmpl',\n",
       " '12.5 kmpl',\n",
       " '12.51 kmpl',\n",
       " '12.51 kmpl',\n",
       " '12.55 kmpl',\n",
       " '12.55 kmpl',\n",
       " '12.55 kmpl',\n",
       " '12.55 kmpl',\n",
       " '12.55 kmpl',\n",
       " '12.55 kmpl',\n",
       " '12.55 kmpl',\n",
       " '12.55 kmpl',\n",
       " '12.55 kmpl',\n",
       " '12.55 kmpl',\n",
       " '12.55 kmpl',\n",
       " '12.55 kmpl',\n",
       " '12.55 kmpl',\n",
       " '12.55 kmpl',\n",
       " '12.55 kmpl',\n",
       " '12.55 kmpl',\n",
       " '12.55 kmpl',\n",
       " '12.55 kmpl',\n",
       " '12.55 kmpl',\n",
       " '12.55 kmpl',\n",
       " '12.55 kmpl',\n",
       " '12.55 kmpl',\n",
       " '12.55 kmpl',\n",
       " '12.55 kmpl',\n",
       " '12.55 kmpl',\n",
       " '12.55 kmpl',\n",
       " '12.55 kmpl',\n",
       " '12.55 kmpl',\n",
       " '12.55 kmpl',\n",
       " '12.55 kmpl',\n",
       " '12.55 kmpl',\n",
       " '12.55 kmpl',\n",
       " '12.55 kmpl',\n",
       " '12.55 kmpl',\n",
       " '12.6 kmpl',\n",
       " '12.6 kmpl',\n",
       " '12.6 kmpl',\n",
       " '12.6 kmpl',\n",
       " '12.6 kmpl',\n",
       " '12.6 kmpl',\n",
       " '12.62 kmpl',\n",
       " '12.62 kmpl',\n",
       " '12.62 kmpl',\n",
       " '12.62 kmpl',\n",
       " '12.62 kmpl',\n",
       " '12.63 kmpl',\n",
       " '12.63 kmpl',\n",
       " '12.65 kmpl',\n",
       " '12.65 kmpl',\n",
       " '12.65 kmpl',\n",
       " '12.7 kmpl',\n",
       " '12.7 kmpl',\n",
       " '12.7 kmpl',\n",
       " '12.7 kmpl',\n",
       " '12.7 kmpl',\n",
       " '12.7 kmpl',\n",
       " '12.7 kmpl',\n",
       " '12.7 kmpl',\n",
       " '12.7 kmpl',\n",
       " '12.7 kmpl',\n",
       " '12.7 kmpl',\n",
       " '12.7 kmpl',\n",
       " '12.7 kmpl',\n",
       " '12.7 kmpl',\n",
       " '12.7 kmpl',\n",
       " '12.7 kmpl',\n",
       " '12.7 kmpl',\n",
       " '12.7 kmpl',\n",
       " '12.8 kmpl',\n",
       " '12.8 kmpl',\n",
       " '12.8 kmpl',\n",
       " '12.8 kmpl',\n",
       " '12.8 kmpl',\n",
       " '12.8 kmpl',\n",
       " '12.8 kmpl',\n",
       " '12.8 kmpl',\n",
       " '12.8 kmpl',\n",
       " '12.8 kmpl',\n",
       " '12.8 kmpl',\n",
       " '12.8 kmpl',\n",
       " '12.8 kmpl',\n",
       " '12.8 kmpl',\n",
       " '12.8 kmpl',\n",
       " '12.8 kmpl',\n",
       " '12.8 kmpl',\n",
       " '12.8 kmpl',\n",
       " '12.8 kmpl',\n",
       " '12.8 kmpl',\n",
       " '12.8 kmpl',\n",
       " '12.8 kmpl',\n",
       " '12.8 kmpl',\n",
       " '12.8 kmpl',\n",
       " '12.8 kmpl',\n",
       " '12.8 kmpl',\n",
       " '12.8 kmpl',\n",
       " '12.8 kmpl',\n",
       " '12.8 kmpl',\n",
       " '12.8 kmpl',\n",
       " '12.8 kmpl',\n",
       " '12.8 kmpl',\n",
       " '12.8 kmpl',\n",
       " '12.8 kmpl',\n",
       " '12.8 kmpl',\n",
       " '12.8 kmpl',\n",
       " '12.8 kmpl',\n",
       " '12.8 kmpl',\n",
       " '12.8 kmpl',\n",
       " '12.8 kmpl',\n",
       " '12.8 kmpl',\n",
       " '12.8 kmpl',\n",
       " '12.8 kmpl',\n",
       " '12.8 kmpl',\n",
       " '12.8 kmpl',\n",
       " '12.8 kmpl',\n",
       " '12.8 kmpl',\n",
       " '12.8 kmpl',\n",
       " '12.8 kmpl',\n",
       " '12.8 kmpl',\n",
       " '12.8 kmpl',\n",
       " '12.8 kmpl',\n",
       " '12.8 kmpl',\n",
       " '12.8 kmpl',\n",
       " '12.8 kmpl',\n",
       " '12.8 kmpl',\n",
       " '12.8 kmpl',\n",
       " '12.8 kmpl',\n",
       " '12.8 kmpl',\n",
       " '12.8 kmpl',\n",
       " '12.8 kmpl',\n",
       " '12.8 kmpl',\n",
       " '12.8 kmpl',\n",
       " '12.8 kmpl',\n",
       " '12.8 kmpl',\n",
       " '12.8 kmpl',\n",
       " '12.8 kmpl',\n",
       " '12.8 kmpl',\n",
       " '12.8 kmpl',\n",
       " '12.8 kmpl',\n",
       " '12.8 kmpl',\n",
       " '12.8 kmpl',\n",
       " '12.81 kmpl',\n",
       " '12.81 kmpl',\n",
       " '12.83 kmpl',\n",
       " '12.83 kmpl',\n",
       " '12.83 kmpl',\n",
       " '12.83 kmpl',\n",
       " '12.85 kmpl',\n",
       " '12.9 kmpl',\n",
       " '12.9 kmpl',\n",
       " '12.9 kmpl',\n",
       " '12.9 kmpl',\n",
       " '12.9 kmpl',\n",
       " '12.9 kmpl',\n",
       " '12.9 kmpl',\n",
       " '12.9 kmpl',\n",
       " '12.9 kmpl',\n",
       " '12.9 kmpl',\n",
       " '12.9 kmpl',\n",
       " '12.9 kmpl',\n",
       " '12.9 kmpl',\n",
       " '12.9 kmpl',\n",
       " '12.9 kmpl',\n",
       " '12.9 kmpl',\n",
       " '12.9 kmpl',\n",
       " '12.9 kmpl',\n",
       " '12.9 kmpl',\n",
       " '12.9 kmpl',\n",
       " '12.9 kmpl',\n",
       " '12.95 kmpl',\n",
       " '12.97 kmpl',\n",
       " '12.98 kmpl',\n",
       " '12.99 kmpl',\n",
       " '12.99 kmpl',\n",
       " '12.99 kmpl',\n",
       " '12.99 kmpl',\n",
       " '12.99 kmpl',\n",
       " '12.99 kmpl',\n",
       " '12.99 kmpl',\n",
       " '12.99 kmpl',\n",
       " '12.99 kmpl',\n",
       " '12.99 kmpl',\n",
       " '12.99 kmpl',\n",
       " '12.99 kmpl',\n",
       " '12.99 kmpl',\n",
       " '12.99 kmpl',\n",
       " '12.99 kmpl',\n",
       " '12.99 kmpl',\n",
       " '12.99 kmpl',\n",
       " '12.99 kmpl',\n",
       " '12.99 kmpl',\n",
       " '12.99 kmpl',\n",
       " '12.99 kmpl',\n",
       " '12.99 kmpl',\n",
       " '12.99 kmpl',\n",
       " '12.99 kmpl',\n",
       " '12.99 kmpl',\n",
       " '12.99 kmpl',\n",
       " '12.99 kmpl',\n",
       " '12.99 kmpl',\n",
       " '12.99 kmpl',\n",
       " '12.99 kmpl',\n",
       " '12.99 kmpl',\n",
       " '12.99 kmpl',\n",
       " '12.99 kmpl',\n",
       " '12.99 kmpl',\n",
       " '12.99 kmpl',\n",
       " '12.99 kmpl',\n",
       " '12.99 kmpl',\n",
       " '12.99 kmpl',\n",
       " '12.99 kmpl',\n",
       " '12.99 kmpl',\n",
       " '12.99 kmpl',\n",
       " '12.99 kmpl',\n",
       " '12.99 kmpl',\n",
       " '12.99 kmpl',\n",
       " '12.99 kmpl',\n",
       " '12.99 kmpl',\n",
       " '12.99 kmpl',\n",
       " '12.99 kmpl',\n",
       " '12.99 kmpl',\n",
       " '12.99 kmpl',\n",
       " '12.99 kmpl',\n",
       " '12.99 kmpl',\n",
       " '12.99 kmpl',\n",
       " '12.99 kmpl',\n",
       " '12.99 kmpl',\n",
       " '12.99 kmpl',\n",
       " '12.99 kmpl',\n",
       " '12.99 kmpl',\n",
       " '13.0 kmpl',\n",
       " '13.0 kmpl',\n",
       " '13.0 kmpl',\n",
       " '13.0 kmpl',\n",
       " '13.0 kmpl',\n",
       " '13.0 kmpl',\n",
       " '13.0 kmpl',\n",
       " '13.0 kmpl',\n",
       " '13.0 kmpl',\n",
       " '13.0 kmpl',\n",
       " '13.0 kmpl',\n",
       " '13.0 kmpl',\n",
       " '13.0 kmpl',\n",
       " '13.0 kmpl',\n",
       " '13.0 kmpl',\n",
       " '13.0 kmpl',\n",
       " '13.0 kmpl',\n",
       " '13.0 kmpl',\n",
       " '13.0 kmpl',\n",
       " '13.0 kmpl',\n",
       " '13.0 kmpl',\n",
       " '13.0 kmpl',\n",
       " '13.0 kmpl',\n",
       " '13.0 kmpl',\n",
       " '13.0 kmpl',\n",
       " '13.0 kmpl',\n",
       " '13.0 kmpl',\n",
       " '13.0 kmpl',\n",
       " '13.0 kmpl',\n",
       " '13.0 kmpl',\n",
       " '13.0 kmpl',\n",
       " '13.0 kmpl',\n",
       " '13.0 kmpl',\n",
       " '13.0 kmpl',\n",
       " '13.0 kmpl',\n",
       " '13.0 kmpl',\n",
       " '13.0 kmpl',\n",
       " '13.0 kmpl',\n",
       " '13.0 kmpl',\n",
       " '13.0 kmpl',\n",
       " '13.0 kmpl',\n",
       " '13.0 kmpl',\n",
       " '13.0 kmpl',\n",
       " '13.0 kmpl',\n",
       " '13.0 kmpl',\n",
       " '13.0 kmpl',\n",
       " '13.0 kmpl',\n",
       " '13.0 kmpl',\n",
       " '13.0 kmpl',\n",
       " '13.0 kmpl',\n",
       " '13.0 kmpl',\n",
       " '13.0 kmpl',\n",
       " '13.0 kmpl',\n",
       " '13.0 kmpl',\n",
       " '13.0 kmpl',\n",
       " '13.0 kmpl',\n",
       " '13.0 kmpl',\n",
       " '13.0 kmpl',\n",
       " '13.0 kmpl',\n",
       " '13.0 kmpl',\n",
       " '13.0 kmpl',\n",
       " '13.0 kmpl',\n",
       " '13.0 kmpl',\n",
       " '13.0 kmpl',\n",
       " '13.0 kmpl',\n",
       " '13.0 kmpl',\n",
       " '13.0 kmpl',\n",
       " '13.01 kmpl',\n",
       " '13.01 kmpl',\n",
       " '13.01 kmpl',\n",
       " '13.01 kmpl',\n",
       " '13.01 kmpl',\n",
       " '13.01 kmpl',\n",
       " '13.01 kmpl',\n",
       " '13.01 kmpl',\n",
       " '13.06 kmpl',\n",
       " '13.06 kmpl',\n",
       " '13.1 kmpl',\n",
       " '13.1 kmpl',\n",
       " '13.1 kmpl',\n",
       " '13.1 kmpl',\n",
       " '13.1 kmpl',\n",
       " '13.1 kmpl',\n",
       " '13.1 kmpl',\n",
       " '13.1 kmpl',\n",
       " '13.1 kmpl',\n",
       " '13.1 kmpl',\n",
       " '13.1 kmpl',\n",
       " '13.1 kmpl',\n",
       " '13.1 kmpl',\n",
       " '13.1 kmpl',\n",
       " '13.1 kmpl',\n",
       " '13.1 kmpl',\n",
       " '13.1 kmpl',\n",
       " '13.1 kmpl',\n",
       " '13.14 kmpl',\n",
       " '13.14 kmpl',\n",
       " '13.14 kmpl',\n",
       " '13.14 kmpl',\n",
       " '13.17 kmpl',\n",
       " '13.17 kmpl',\n",
       " '13.2 km/kg',\n",
       " '13.2 kmpl',\n",
       " '13.2 kmpl',\n",
       " '13.2 kmpl',\n",
       " '13.2 kmpl',\n",
       " '13.2 kmpl',\n",
       " '13.2 kmpl',\n",
       " '13.2 kmpl',\n",
       " '13.2 kmpl',\n",
       " '13.2 kmpl',\n",
       " '13.2 kmpl',\n",
       " '13.2 kmpl',\n",
       " '13.2 kmpl',\n",
       " '13.2 kmpl',\n",
       " '13.2 kmpl',\n",
       " '13.2 kmpl',\n",
       " '13.2 kmpl',\n",
       " '13.2 kmpl',\n",
       " '13.2 kmpl',\n",
       " '13.2 kmpl',\n",
       " '13.2 kmpl',\n",
       " '13.2 kmpl',\n",
       " '13.2 kmpl',\n",
       " '13.22 kmpl',\n",
       " '13.22 kmpl',\n",
       " '13.22 kmpl',\n",
       " '13.22 kmpl',\n",
       " '13.22 kmpl',\n",
       " '13.24 kmpl',\n",
       " '13.24 kmpl',\n",
       " '13.24 kmpl',\n",
       " '13.24 kmpl',\n",
       " '13.24 kmpl',\n",
       " '13.24 kmpl',\n",
       " '13.29 kmpl',\n",
       " '13.33 kmpl',\n",
       " '13.33 kmpl',\n",
       " '13.4 kmpl',\n",
       " '13.4 kmpl',\n",
       " '13.4 kmpl',\n",
       " '13.4 kmpl',\n",
       " '13.4 kmpl',\n",
       " '13.4 kmpl',\n",
       " '13.4 kmpl',\n",
       " '13.4 kmpl',\n",
       " '13.4 kmpl',\n",
       " '13.4 kmpl',\n",
       " '13.4 kmpl',\n",
       " '13.4 kmpl',\n",
       " '13.44 kmpl',\n",
       " '13.45 km/kg',\n",
       " '13.45 km/kg',\n",
       " '13.45 km/kg',\n",
       " '13.49 kmpl',\n",
       " '13.49 kmpl',\n",
       " '13.49 kmpl',\n",
       " '13.5 kmpl',\n",
       " '13.5 kmpl',\n",
       " '13.5 kmpl',\n",
       " '13.5 kmpl',\n",
       " '13.5 kmpl',\n",
       " '13.5 kmpl',\n",
       " '13.5 kmpl',\n",
       " '13.5 kmpl',\n",
       " '13.5 kmpl',\n",
       " '13.5 kmpl',\n",
       " '13.5 kmpl',\n",
       " '13.5 kmpl',\n",
       " '13.5 kmpl',\n",
       " '13.5 kmpl',\n",
       " '13.5 kmpl',\n",
       " '13.5 kmpl',\n",
       " '13.5 kmpl',\n",
       " '13.5 kmpl',\n",
       " '13.5 kmpl',\n",
       " '13.5 kmpl',\n",
       " '13.5 kmpl',\n",
       " '13.5 kmpl',\n",
       " '13.5 kmpl',\n",
       " '13.5 kmpl',\n",
       " '13.5 kmpl',\n",
       " '13.5 kmpl',\n",
       " '13.5 kmpl',\n",
       " '13.5 kmpl',\n",
       " '13.5 kmpl',\n",
       " '13.5 kmpl',\n",
       " '13.5 kmpl',\n",
       " '13.5 kmpl',\n",
       " '13.5 kmpl',\n",
       " '13.5 kmpl',\n",
       " '13.5 kmpl',\n",
       " '13.5 kmpl',\n",
       " '13.5 kmpl',\n",
       " '13.5 kmpl',\n",
       " '13.5 kmpl',\n",
       " '13.5 kmpl',\n",
       " '13.5 kmpl',\n",
       " '13.5 kmpl',\n",
       " '13.53 kmpl',\n",
       " '13.53 kmpl',\n",
       " '13.58 kmpl',\n",
       " '13.6 kmpl',\n",
       " '13.6 kmpl',\n",
       " '13.6 kmpl',\n",
       " '13.6 kmpl',\n",
       " '13.6 kmpl',\n",
       " '13.6 kmpl',\n",
       " '13.6 kmpl',\n",
       " '13.6 kmpl',\n",
       " '13.6 kmpl',\n",
       " '13.6 kmpl',\n",
       " '13.6 kmpl',\n",
       " '13.6 kmpl',\n",
       " '13.6 kmpl',\n",
       " '13.6 kmpl',\n",
       " '13.6 kmpl',\n",
       " '13.68 kmpl',\n",
       " '13.68 kmpl',\n",
       " '13.68 kmpl',\n",
       " '13.68 kmpl',\n",
       " '13.68 kmpl',\n",
       " '13.68 kmpl',\n",
       " '13.68 kmpl',\n",
       " '13.68 kmpl',\n",
       " '13.68 kmpl',\n",
       " '13.68 kmpl',\n",
       " '13.68 kmpl',\n",
       " '13.68 kmpl',\n",
       " '13.68 kmpl',\n",
       " '13.68 kmpl',\n",
       " '13.68 kmpl',\n",
       " '13.68 kmpl',\n",
       " '13.68 kmpl',\n",
       " '13.68 kmpl',\n",
       " '13.68 kmpl',\n",
       " '13.68 kmpl',\n",
       " '13.68 kmpl',\n",
       " '13.68 kmpl',\n",
       " '13.7 kmpl',\n",
       " '13.7 kmpl',\n",
       " '13.7 kmpl',\n",
       " '13.7 kmpl',\n",
       " '13.7 kmpl',\n",
       " '13.7 kmpl',\n",
       " '13.7 kmpl',\n",
       " '13.7 kmpl',\n",
       " '13.7 kmpl',\n",
       " '13.7 kmpl',\n",
       " '13.7 kmpl',\n",
       " '13.7 kmpl',\n",
       " '13.7 kmpl',\n",
       " '13.7 kmpl',\n",
       " '13.7 kmpl',\n",
       " '13.7 kmpl',\n",
       " '13.7 kmpl',\n",
       " '13.7 kmpl',\n",
       " '13.7 kmpl',\n",
       " '13.7 kmpl',\n",
       " '13.7 kmpl',\n",
       " '13.7 kmpl',\n",
       " '13.7 kmpl',\n",
       " '13.7 kmpl',\n",
       " '13.7 kmpl',\n",
       " '13.7 kmpl',\n",
       " '13.7 kmpl',\n",
       " '13.7 kmpl',\n",
       " '13.7 kmpl',\n",
       " '13.7 kmpl',\n",
       " '13.7 kmpl',\n",
       " '13.7 kmpl',\n",
       " '13.73 kmpl',\n",
       " '13.73 kmpl',\n",
       " '13.73 kmpl',\n",
       " '13.8 kmpl',\n",
       " '13.8 kmpl',\n",
       " '13.8 kmpl',\n",
       " '13.8 kmpl',\n",
       " '13.8 kmpl',\n",
       " '13.8 kmpl',\n",
       " '13.8 kmpl',\n",
       " '13.8 kmpl',\n",
       " '13.8 kmpl',\n",
       " '13.8 kmpl',\n",
       " '13.8 kmpl',\n",
       " ...]"
      ]
     },
     "execution_count": 41,
     "metadata": {},
     "output_type": "execute_result"
    }
   ],
   "source": [
    "# Mencari mileage terendah dengan kmpl atau km/kg terendah\n",
    "def sort(lst): \n",
    "    return sorted(lst, key = str) \n",
    "sort(df['Mileage'])"
   ]
  },
  {
   "cell_type": "code",
   "execution_count": 22,
   "metadata": {},
   "outputs": [
    {
     "data": {
      "text/plain": [
       "{'Diesel', 'Petrol'}"
      ]
     },
     "execution_count": 22,
     "metadata": {},
     "output_type": "execute_result"
    }
   ],
   "source": [
    "set(df[df['Mileage']=='10.0 kmpl']['Fuel_Type'])"
   ]
  },
  {
   "cell_type": "code",
   "execution_count": null,
   "metadata": {},
   "outputs": [],
   "source": []
  },
  {
   "cell_type": "markdown",
   "metadata": {},
   "source": [
    "# SOAL 10 - FAKTOR YANG MENENTUKAN HARGA MOBIL BEKAS"
   ]
  },
  {
   "cell_type": "code",
   "execution_count": 224,
   "metadata": {},
   "outputs": [
    {
     "data": {
      "image/png": "[encoded data removed]",
      "text/plain": [
       "<Figure size 1440x1440 with 2 Axes>"
      ]
     },
     "metadata": {
      "needs_background": "light"
     },
     "output_type": "display_data"
    }
   ],
   "source": [
    "fig, ax = plt.subplots(figsize=(20,20))\n",
    "corrmat = data_final.corr(method='pearson')\n",
    "top_corrmat = corrmat.index\n",
    "g = sn.heatmap(data_final[top_corrmat].corr(method='pearson'),annot=True,cmap='RdYlGn')"
   ]
  },
  {
   "cell_type": "markdown",
   "metadata": {},
   "source": [
    "# EDA (EXPLORATORY DATA ANALYSIS) DAN FEATURE ENGINEERING "
   ]
  },
  {
   "cell_type": "markdown",
   "metadata": {},
   "source": [
    "- <h3> Mengidentifikasi banyaknya missing value tiap kolom </h3>"
   ]
  },
  {
   "cell_type": "code",
   "execution_count": 141,
   "metadata": {},
   "outputs": [
    {
     "data": {
      "text/plain": [
       "Name                  0\n",
       "Location              0\n",
       "Year                  0\n",
       "Kilometers_Driven     0\n",
       "Fuel_Type             0\n",
       "Transmission          0\n",
       "Owner_Type            0\n",
       "Mileage               2\n",
       "Engine               36\n",
       "Power                36\n",
       "Seats                42\n",
       "Price                 0\n",
       "Merek                 0\n",
       "dtype: int64"
      ]
     },
     "execution_count": 141,
     "metadata": {},
     "output_type": "execute_result"
    }
   ],
   "source": [
    "df.isnull().sum() "
   ]
  },
  {
   "cell_type": "code",
   "execution_count": 142,
   "metadata": {},
   "outputs": [
    {
     "name": "stdout",
     "output_type": "stream",
     "text": [
      "<class 'pandas.core.frame.DataFrame'>\n",
      "RangeIndex: 6019 entries, 0 to 6018\n",
      "Data columns (total 13 columns):\n",
      " #   Column             Non-Null Count  Dtype  \n",
      "---  ------             --------------  -----  \n",
      " 0   Name               6019 non-null   object \n",
      " 1   Location           6019 non-null   object \n",
      " 2   Year               6019 non-null   int64  \n",
      " 3   Kilometers_Driven  6019 non-null   int64  \n",
      " 4   Fuel_Type          6019 non-null   object \n",
      " 5   Transmission       6019 non-null   object \n",
      " 6   Owner_Type         6019 non-null   object \n",
      " 7   Mileage            6017 non-null   object \n",
      " 8   Engine             5983 non-null   object \n",
      " 9   Power              5983 non-null   object \n",
      " 10  Seats              5977 non-null   float64\n",
      " 11  Price              6019 non-null   float64\n",
      " 12  Merek              6019 non-null   object \n",
      "dtypes: float64(2), int64(2), object(9)\n",
      "memory usage: 611.4+ KB\n"
     ]
    }
   ],
   "source": [
    "# Melihat tipe data dari tiap kolom\n",
    "df.info()"
   ]
  },
  {
   "cell_type": "markdown",
   "metadata": {},
   "source": [
    "# Mengisi Missing Value"
   ]
  },
  {
   "cell_type": "markdown",
   "metadata": {},
   "source": [
    "- <h3> Mengisi Missing Value Kolom Mileage (Frequent Category Imputation) </h3>"
   ]
  },
  {
   "cell_type": "code",
   "execution_count": 14,
   "metadata": {},
   "outputs": [],
   "source": [
    "# Membuat Rumus Untuk mengisi dengan modus terbanyak\n",
    "def impute_nan_frequent(df,variable):\n",
    "    most_frequent_category = df[variable].mode()[0]\n",
    "    df[variable].fillna(most_frequent_category,inplace=True)"
   ]
  },
  {
   "cell_type": "code",
   "execution_count": 15,
   "metadata": {},
   "outputs": [],
   "source": [
    "# Mengisi Kolom Mileage dengan modus terbanyak\n",
    "impute_nan_frequent(df,'Mileage')"
   ]
  },
  {
   "cell_type": "code",
   "execution_count": 16,
   "metadata": {},
   "outputs": [
    {
     "data": {
      "text/plain": [
       "17.0     175\n",
       "18.9     172\n",
       "18.6     119\n",
       "20.36     88\n",
       "21.1      87\n",
       "        ... \n",
       "30.46      1\n",
       "14.9       1\n",
       "11.07      1\n",
       "16.38      1\n",
       "26.8       1\n",
       "Name: Mileage, Length: 430, dtype: int64"
      ]
     },
     "execution_count": 16,
     "metadata": {},
     "output_type": "execute_result"
    }
   ],
   "source": [
    "# Memisahkan Data Kolom Mileage untuk diubah menjadi Numerik\n",
    "Mileage = []\n",
    "\n",
    "for i in df[\"Mileage\"]:\n",
    "    Mileage.append(i.split()[0])\n",
    "    \n",
    "df[\"Mileage\"] = Mileage.copy()\n",
    "df[\"Mileage\"].value_counts()"
   ]
  },
  {
   "cell_type": "code",
   "execution_count": 18,
   "metadata": {},
   "outputs": [],
   "source": [
    "# Mengubah tipe data object menjadi float\n",
    "df['Mileage']=df['Mileage'].astype(float)"
   ]
  },
  {
   "cell_type": "code",
   "execution_count": 21,
   "metadata": {
    "scrolled": true
   },
   "outputs": [
    {
     "data": {
      "text/plain": [
       "<matplotlib.axes._subplots.AxesSubplot at 0x1ffd6306220>"
      ]
     },
     "execution_count": 21,
     "metadata": {},
     "output_type": "execute_result"
    },
    {
     "data": {
      "image/png": "[encoded data removed]",
      "text/plain": [
       "<Figure size 432x288 with 1 Axes>"
      ]
     },
     "metadata": {
      "needs_background": "light"
     },
     "output_type": "display_data"
    }
   ],
   "source": [
    "# Univariate analysis dari Kolom Mileage dengan BOXPLOT sesudah Imputasi\n",
    "sn.boxplot('Mileage',data=df)"
   ]
  },
  {
   "cell_type": "code",
   "execution_count": 22,
   "metadata": {
    "scrolled": true
   },
   "outputs": [
    {
     "data": {
      "text/plain": [
       "<matplotlib.axes._subplots.AxesSubplot at 0x1ffd638f640>"
      ]
     },
     "execution_count": 22,
     "metadata": {},
     "output_type": "execute_result"
    },
    {
     "data": {
      "image/png": "[encoded data removed]",
      "text/plain": [
       "<Figure size 432x288 with 1 Axes>"
      ]
     },
     "metadata": {
      "needs_background": "light"
     },
     "output_type": "display_data"
    }
   ],
   "source": [
    "# Univariate analysis dari Kolom Mileage dengan Histogram sesudah Imputasi\n",
    "df['Mileage'].hist(bins=50)"
   ]
  },
  {
   "cell_type": "markdown",
   "metadata": {},
   "source": [
    "- <h3> Mengisi Missing Value Kolom Engine (End of Distribution) </h3>"
   ]
  },
  {
   "cell_type": "code",
   "execution_count": 23,
   "metadata": {},
   "outputs": [],
   "source": [
    "# Mengisi data dengan random value yang tidak ada pada Kolom Engine\n",
    "df['Engine'].fillna('0 CC',inplace=True)"
   ]
  },
  {
   "cell_type": "code",
   "execution_count": 24,
   "metadata": {},
   "outputs": [
    {
     "data": {
      "text/plain": [
       "1197    606\n",
       "1248    512\n",
       "1498    304\n",
       "998     259\n",
       "2179    240\n",
       "       ... \n",
       "4951      1\n",
       "2720      1\n",
       "2773      1\n",
       "2706      1\n",
       "3200      1\n",
       "Name: Engine, Length: 147, dtype: int64"
      ]
     },
     "execution_count": 24,
     "metadata": {},
     "output_type": "execute_result"
    }
   ],
   "source": [
    "# Memisahkan Data Kolom Engine untuk diubah menjadi Numerik\n",
    "Engine = []\n",
    "\n",
    "for i in df[\"Engine\"]:\n",
    "    Engine.append(i.split()[0])\n",
    "    \n",
    "df[\"Engine\"] = Engine.copy()\n",
    "df[\"Engine\"].value_counts()"
   ]
  },
  {
   "cell_type": "code",
   "execution_count": 25,
   "metadata": {},
   "outputs": [],
   "source": [
    "# Mengubah tipe data object menjadi integer\n",
    "df['Engine'] = df['Engine'].astype(int)"
   ]
  },
  {
   "cell_type": "code",
   "execution_count": 26,
   "metadata": {},
   "outputs": [],
   "source": [
    "# Mengganti random value sebelumnya dengan nan untuk Imputasi Data\n",
    "df['Engine'] = df['Engine'].replace(0,np.nan)"
   ]
  },
  {
   "cell_type": "code",
   "execution_count": 27,
   "metadata": {},
   "outputs": [
    {
     "data": {
      "text/plain": [
       "<matplotlib.axes._subplots.AxesSubplot at 0x1ffd645c190>"
      ]
     },
     "execution_count": 27,
     "metadata": {},
     "output_type": "execute_result"
    },
    {
     "data": {
      "image/png": "[encoded data removed]",
      "text/plain": [
       "<Figure size 432x288 with 1 Axes>"
      ]
     },
     "metadata": {
      "needs_background": "light"
     },
     "output_type": "display_data"
    }
   ],
   "source": [
    "# Univariate analysis dari Kolom Engine dengan BOXPLOT sebelum imputasi\n",
    "sn.boxplot('Engine',data=df)"
   ]
  },
  {
   "cell_type": "code",
   "execution_count": 195,
   "metadata": {},
   "outputs": [
    {
     "data": {
      "text/plain": [
       "<matplotlib.axes._subplots.AxesSubplot at 0x1a32c2c28b0>"
      ]
     },
     "execution_count": 195,
     "metadata": {},
     "output_type": "execute_result"
    },
    {
     "data": {
      "image/png": "[encoded data removed]",
      "text/plain": [
       "<Figure size 432x288 with 1 Axes>"
      ]
     },
     "metadata": {
      "needs_background": "light"
     },
     "output_type": "display_data"
    }
   ],
   "source": [
    "# Univariate analysis dari Kolom Engine dengan Histogram sebelum imputasi\n",
    "df['Engine'].hist(bins=50)"
   ]
  },
  {
   "cell_type": "code",
   "execution_count": 28,
   "metadata": {},
   "outputs": [],
   "source": [
    "# Membuat variabel nilai distribusi akhir dari kolom Engine\n",
    "Engine_extreme = df.Engine.mean()+3*df.Engine.std()"
   ]
  },
  {
   "cell_type": "code",
   "execution_count": 29,
   "metadata": {},
   "outputs": [],
   "source": [
    "# Membuat fungsi untuk mengisi missing value dengan metode end of Distribution\n",
    "def impute_nan_end_distribution(df,variable,extreme):\n",
    "    df[variable]= df[variable].fillna(extreme)\n"
   ]
  },
  {
   "cell_type": "code",
   "execution_count": 30,
   "metadata": {},
   "outputs": [],
   "source": [
    "# Mengisi Kolom Engine dengan Engine_extreme\n",
    "impute_nan_end_distribution(df,'Engine',Engine_extreme)"
   ]
  },
  {
   "cell_type": "code",
   "execution_count": 199,
   "metadata": {},
   "outputs": [
    {
     "data": {
      "text/plain": [
       "<matplotlib.axes._subplots.AxesSubplot at 0x1a32d2ed880>"
      ]
     },
     "execution_count": 199,
     "metadata": {},
     "output_type": "execute_result"
    },
    {
     "data": {
      "image/png": "[encoded data removed]",
      "text/plain": [
       "<Figure size 432x288 with 1 Axes>"
      ]
     },
     "metadata": {
      "needs_background": "light"
     },
     "output_type": "display_data"
    }
   ],
   "source": [
    "# Univariate analysis dari Kolom Engine dengan BOXPLOT sesudah imputasi\n",
    "sn.boxplot('Engine',data=df)"
   ]
  },
  {
   "cell_type": "code",
   "execution_count": 200,
   "metadata": {},
   "outputs": [
    {
     "data": {
      "text/plain": [
       "<matplotlib.axes._subplots.AxesSubplot at 0x1a32d3297c0>"
      ]
     },
     "execution_count": 200,
     "metadata": {},
     "output_type": "execute_result"
    },
    {
     "data": {
      "image/png": "[encoded data removed]",
      "text/plain": [
       "<Figure size 432x288 with 1 Axes>"
      ]
     },
     "metadata": {
      "needs_background": "light"
     },
     "output_type": "display_data"
    }
   ],
   "source": [
    "# Univariate analysis dari Kolom Engine dengan Histogram sesudah imputasi\n",
    "df['Engine'].hist(bins=50)"
   ]
  },
  {
   "cell_type": "markdown",
   "metadata": {},
   "source": [
    "- <h3> Mengisi Missing Value Kolom Power (End of Distribution) </h3>"
   ]
  },
  {
   "cell_type": "code",
   "execution_count": 31,
   "metadata": {},
   "outputs": [],
   "source": [
    "# Mengisi data dengan random value yang tidak ada pada Kolom Power\n",
    "df['Power'].fillna('0.0 bhp',inplace=True)"
   ]
  },
  {
   "cell_type": "code",
   "execution_count": 32,
   "metadata": {},
   "outputs": [
    {
     "data": {
      "text/plain": [
       "74        235\n",
       "98.6      131\n",
       "73.9      125\n",
       "140       123\n",
       "78.9      111\n",
       "         ... \n",
       "175.67      1\n",
       "181.43      1\n",
       "112.4       1\n",
       "402         1\n",
       "130.3       1\n",
       "Name: Power, Length: 373, dtype: int64"
      ]
     },
     "execution_count": 32,
     "metadata": {},
     "output_type": "execute_result"
    }
   ],
   "source": [
    "# Memisahkan Data Kolom Power untuk diubah menjadi Numerik\n",
    "Power = []\n",
    "\n",
    "for i in df[\"Power\"]:\n",
    "    Power.append(i.split()[0])\n",
    "    \n",
    "df[\"Power\"] = Power.copy()\n",
    "df[\"Power\"].value_counts()"
   ]
  },
  {
   "cell_type": "code",
   "execution_count": 33,
   "metadata": {},
   "outputs": [],
   "source": [
    "# Membuat string 'null' pada kolom Power menjadi 0\n",
    "df.loc[df['Power']== 'null', 'Power'] = '0.0'"
   ]
  },
  {
   "cell_type": "code",
   "execution_count": 34,
   "metadata": {},
   "outputs": [],
   "source": [
    "# Mengubah tipe data object menjadi float\n",
    "df['Power'] = df['Power'].astype(float)"
   ]
  },
  {
   "cell_type": "code",
   "execution_count": 35,
   "metadata": {},
   "outputs": [],
   "source": [
    "# Mengganti random value sebelumnya dengan nan untuk Imputasi Data\n",
    "df['Power'] = df['Power'].replace(0,np.nan)"
   ]
  },
  {
   "cell_type": "code",
   "execution_count": 206,
   "metadata": {},
   "outputs": [
    {
     "data": {
      "text/plain": [
       "<matplotlib.axes._subplots.AxesSubplot at 0x1a32ebf6c10>"
      ]
     },
     "execution_count": 206,
     "metadata": {},
     "output_type": "execute_result"
    },
    {
     "data": {
      "image/png": "[encoded data removed]",
      "text/plain": [
       "<Figure size 432x288 with 1 Axes>"
      ]
     },
     "metadata": {
      "needs_background": "light"
     },
     "output_type": "display_data"
    }
   ],
   "source": [
    "# Univariate analysis dari Kolom Power dengan BOXPLOT sebelum imputasi\n",
    "sn.boxplot('Power',data=df)"
   ]
  },
  {
   "cell_type": "code",
   "execution_count": 207,
   "metadata": {},
   "outputs": [
    {
     "data": {
      "text/plain": [
       "<matplotlib.axes._subplots.AxesSubplot at 0x1a32ec30730>"
      ]
     },
     "execution_count": 207,
     "metadata": {},
     "output_type": "execute_result"
    },
    {
     "data": {
      "image/png": "[encoded data removed]",
      "text/plain": [
       "<Figure size 432x288 with 1 Axes>"
      ]
     },
     "metadata": {
      "needs_background": "light"
     },
     "output_type": "display_data"
    }
   ],
   "source": [
    "# Univariate analysis dari Kolom Power dengan BOXPLOT sebelum imputasi\n",
    "df['Power'].hist(bins=50)"
   ]
  },
  {
   "cell_type": "code",
   "execution_count": 36,
   "metadata": {},
   "outputs": [],
   "source": [
    "# Membuat variabel nilai distribusi akhir dari kolom Power\n",
    "Power_extreme = df.Power.mean()+3*df.Power.std()"
   ]
  },
  {
   "cell_type": "code",
   "execution_count": 37,
   "metadata": {},
   "outputs": [],
   "source": [
    "# Mengisi Kolom Power dengan Power_extreme\n",
    "impute_nan_end_distribution(df,'Power',Power_extreme)"
   ]
  },
  {
   "cell_type": "code",
   "execution_count": 210,
   "metadata": {},
   "outputs": [
    {
     "data": {
      "text/plain": [
       "<matplotlib.axes._subplots.AxesSubplot at 0x1a32ef87460>"
      ]
     },
     "execution_count": 210,
     "metadata": {},
     "output_type": "execute_result"
    },
    {
     "data": {
      "image/png": "[encoded data removed]",
      "text/plain": [
       "<Figure size 432x288 with 1 Axes>"
      ]
     },
     "metadata": {
      "needs_background": "light"
     },
     "output_type": "display_data"
    }
   ],
   "source": [
    "# Univariate analysis dari Kolom Power dengan BOXPLOT sesudah imputasi\n",
    "sn.boxplot('Power',data=df)"
   ]
  },
  {
   "cell_type": "code",
   "execution_count": 66,
   "metadata": {},
   "outputs": [
    {
     "data": {
      "text/plain": [
       "<matplotlib.axes._subplots.AxesSubplot at 0x1ffd63508e0>"
      ]
     },
     "execution_count": 66,
     "metadata": {},
     "output_type": "execute_result"
    },
    {
     "data": {
      "image/png": "[encoded data removed]",
      "text/plain": [
       "<Figure size 432x288 with 1 Axes>"
      ]
     },
     "metadata": {
      "needs_background": "light"
     },
     "output_type": "display_data"
    }
   ],
   "source": [
    "# Univariate analysis dari Kolom Power dengan Histogram sesudah imputasi\n",
    "df['Power'].hist(bins=50)"
   ]
  },
  {
   "cell_type": "markdown",
   "metadata": {},
   "source": [
    "- <h3> Mengisi Missing Value Kolom Seats (Frequent Category Imputation) </h3>"
   ]
  },
  {
   "cell_type": "code",
   "execution_count": 212,
   "metadata": {},
   "outputs": [
    {
     "data": {
      "text/plain": [
       "<matplotlib.axes._subplots.AxesSubplot at 0x1a32f094ee0>"
      ]
     },
     "execution_count": 212,
     "metadata": {},
     "output_type": "execute_result"
    },
    {
     "data": {
      "image/png": "[encoded data removed]",
      "text/plain": [
       "<Figure size 432x288 with 1 Axes>"
      ]
     },
     "metadata": {
      "needs_background": "light"
     },
     "output_type": "display_data"
    }
   ],
   "source": [
    "# Univariate analysis dari Kolom Seats dengan Histogram sebelum imputasi\n",
    "df['Seats'].hist(bins=50)"
   ]
  },
  {
   "cell_type": "code",
   "execution_count": 38,
   "metadata": {},
   "outputs": [],
   "source": [
    "# Mengisi Kolom Seats dengan modus terbanyak\n",
    "impute_nan_frequent(df,'Seats')"
   ]
  },
  {
   "cell_type": "code",
   "execution_count": 214,
   "metadata": {},
   "outputs": [
    {
     "data": {
      "text/plain": [
       "<matplotlib.axes._subplots.AxesSubplot at 0x1a32f5eed60>"
      ]
     },
     "execution_count": 214,
     "metadata": {},
     "output_type": "execute_result"
    },
    {
     "data": {
      "image/png": "[encoded data removed]",
      "text/plain": [
       "<Figure size 432x288 with 1 Axes>"
      ]
     },
     "metadata": {
      "needs_background": "light"
     },
     "output_type": "display_data"
    }
   ],
   "source": [
    "# Univariate analysis dari Kolom Seats dengan Histogram sesudah imputasi\n",
    "df['Seats'].hist(bins=50)"
   ]
  },
  {
   "cell_type": "code",
   "execution_count": 39,
   "metadata": {},
   "outputs": [],
   "source": [
    "# Mengganti Nama Kolom dengan Nama Kolom yang baru\n",
    "df['Mileage(kmpl)'] = df['Mileage'].copy()\n",
    "df['Engine(CC)'] = df['Engine'].copy()\n",
    "df['Power(bhp)'] = df['Power'].copy()"
   ]
  },
  {
   "cell_type": "code",
   "execution_count": 40,
   "metadata": {},
   "outputs": [],
   "source": [
    "# Mengubah data categorical pada kolom Fuel_Type, Transmission, dan Owner_Type menjadi numerik\n",
    "data_numerik = pd.get_dummies(df, columns=[\"Fuel_Type\",'Transmission','Owner_Type'])"
   ]
  },
  {
   "cell_type": "code",
   "execution_count": 42,
   "metadata": {},
   "outputs": [],
   "source": [
    "# Membuat data Final dengan menghilangkan kolom yang tidak diperlukan\n",
    "data_final = data_numerik.drop(['Merek','Age','Jarak Pemakaian per Tahun','Mileage','Engine','Power'],axis=1)"
   ]
  },
  {
   "cell_type": "code",
   "execution_count": 235,
   "metadata": {},
   "outputs": [],
   "source": [
    "# Data Pencilan yang terlalu jauh dari batas atas dan bawah tiap kolom\n",
    "lower_outer_fence = q1 -(3   * iqr)\n",
    "upper_outer_fence = q3 +(3   * iqr)"
   ]
  },
  {
   "cell_type": "code",
   "execution_count": 137,
   "metadata": {},
   "outputs": [
    {
     "data": {
      "text/plain": [
       "480000     2\n",
       "620000     1\n",
       "445000     1\n",
       "299322     1\n",
       "775000     1\n",
       "300000     1\n",
       "6500000    1\n",
       "282000     1\n",
       "720000     1\n",
       "262000     1\n",
       "Name: Kilometers_Driven, dtype: int64"
      ]
     },
     "execution_count": 137,
     "metadata": {},
     "output_type": "execute_result"
    }
   ],
   "source": [
    "df[df['Kilometers_Driven'] > 260000]['Kilometers_Driven'].value_counts()"
   ]
  },
  {
   "cell_type": "code",
   "execution_count": 138,
   "metadata": {},
   "outputs": [
    {
     "data": {
      "text/plain": [
       "<matplotlib.axes._subplots.AxesSubplot at 0x1ffd913b2e0>"
      ]
     },
     "execution_count": 138,
     "metadata": {},
     "output_type": "execute_result"
    },
    {
     "data": {
      "image/png": "[encoded data removed]",
      "text/plain": [
       "<Figure size 432x288 with 1 Axes>"
      ]
     },
     "metadata": {
      "needs_background": "light"
     },
     "output_type": "display_data"
    }
   ],
   "source": [
    "df[df['Kilometers_Driven'] > upper_inner_fence]['Kilometers_Driven'].value_counts().hist()"
   ]
  },
  {
   "cell_type": "code",
   "execution_count": 143,
   "metadata": {},
   "outputs": [
    {
     "data": {
      "text/plain": [
       "First             4929\n",
       "Second             968\n",
       "Third              113\n",
       "Fourth & Above       9\n",
       "Name: Owner_Type, dtype: int64"
      ]
     },
     "execution_count": 143,
     "metadata": {},
     "output_type": "execute_result"
    }
   ],
   "source": [
    "# Distribusi data kolom Owner_Type \n",
    "df['Owner_Type'].value_counts()"
   ]
  },
  {
   "cell_type": "code",
   "execution_count": 144,
   "metadata": {},
   "outputs": [
    {
     "data": {
      "text/plain": [
       "Manual       4299\n",
       "Automatic    1720\n",
       "Name: Transmission, dtype: int64"
      ]
     },
     "execution_count": 144,
     "metadata": {},
     "output_type": "execute_result"
    }
   ],
   "source": [
    "# Distribusi data kolom Transmission\n",
    "df.Transmission.value_counts()"
   ]
  },
  {
   "cell_type": "code",
   "execution_count": 69,
   "metadata": {},
   "outputs": [
    {
     "data": {
      "text/plain": [
       "<matplotlib.axes._subplots.AxesSubplot at 0x1ffd62f5880>"
      ]
     },
     "execution_count": 69,
     "metadata": {},
     "output_type": "execute_result"
    },
    {
     "data": {
      "image/png": "[encoded data removed]",
      "text/plain": [
       "<Figure size 432x288 with 1 Axes>"
      ]
     },
     "metadata": {
      "needs_background": "light"
     },
     "output_type": "display_data"
    }
   ],
   "source": [
    "# Distribusi data kolom Fuel_Type \n",
    "df.Fuel_Type.value_counts().plot.bar()"
   ]
  },
  {
   "cell_type": "code",
   "execution_count": 70,
   "metadata": {},
   "outputs": [
    {
     "data": {
      "text/plain": [
       "<matplotlib.axes._subplots.AxesSubplot at 0x1ffd737c3a0>"
      ]
     },
     "execution_count": 70,
     "metadata": {},
     "output_type": "execute_result"
    },
    {
     "data": {
      "image/png": "[encoded data removed]",
      "text/plain": [
       "<Figure size 432x288 with 1 Axes>"
      ]
     },
     "metadata": {
      "needs_background": "light"
     },
     "output_type": "display_data"
    }
   ],
   "source": [
    "# Distribusi kolom Seats\n",
    "df.Seats.value_counts().plot.bar()"
   ]
  },
  {
   "cell_type": "code",
   "execution_count": null,
   "metadata": {},
   "outputs": [],
   "source": []
  }
 ],
 "metadata": {
  "kernelspec": {
   "display_name": "Python 3",
   "language": "python",
   "name": "python3"
  },
  "language_info": {
   "codemirror_mode": {
    "name": "ipython",
    "version": 3
   },
   "file_extension": ".py",
   "mimetype": "text/x-python",
   "name": "python",
   "nbconvert_exporter": "python",
   "pygments_lexer": "ipython3",
   "version": "3.8.3"
  }
 },
 "nbformat": 4,
 "nbformat_minor": 4
}
